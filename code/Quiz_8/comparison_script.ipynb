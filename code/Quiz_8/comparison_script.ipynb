{
 "cells": [
  {
   "cell_type": "code",
   "execution_count": 2,
   "metadata": {},
   "outputs": [],
   "source": [
    "import re"
   ]
  },
  {
   "cell_type": "code",
   "execution_count": 3,
   "metadata": {},
   "outputs": [],
   "source": [
    "def parse_metrics(file_content):\n",
    "    \"\"\"\n",
    "    Parse the metrics from the file content.\n",
    "    \"\"\"\n",
    "    metrics = {}\n",
    "    for line in file_content.splitlines():\n",
    "        if \"five num sum\" in line and \"threshold\" not in line:\n",
    "            parts = re.split(r':\\s+', line.strip())\n",
    "            metric_name = parts[0].strip()\n",
    "            values = list(map(float, parts[1].split('|')[:-1]))  # Exclude the mean\n",
    "            metrics[metric_name] = values\n",
    "    return metrics\n",
    "\n",
    "def calculate_percent_difference(metrics1, metrics2):\n",
    "    \"\"\"\n",
    "    Calculate percentage difference for the metrics.\n",
    "    \"\"\"\n",
    "    percent_differences = {}\n",
    "    for metric in metrics1:\n",
    "        diffs = [\n",
    "            (m2 - m1) / m1 * 100 if m1 != 0 else float('inf')\n",
    "            for m1, m2 in zip(metrics1[metric], metrics2[metric])\n",
    "        ]\n",
    "        percent_differences[metric] = diffs\n",
    "    return percent_differences\n",
    "\n",
    "def print_metrics(metrics):\n",
    "    \"\"\"\n",
    "    Print metrics in the specified format.\n",
    "    \"\"\"\n",
    "    for metric, values in metrics.items():\n",
    "        formatted_values = ' | '.join(f'{v:.4f}' for v in values)\n",
    "        print(f\"{metric}: {formatted_values} | mean: {sum(values) / len(values):.4f}\")"
   ]
  },
  {
   "cell_type": "code",
   "execution_count": 7,
   "metadata": {},
   "outputs": [
    {
     "name": "stdout",
     "output_type": "stream",
     "text": [
      "Percentage Differences:\n",
      "five num sum accuracy: -22.9574 | -28.4390 | -32.3893 | -32.3768 | -24.5125 | mean: -28.1350\n",
      "five num sum precision: -34.1141 | -29.9419 | -31.0407 | -28.0610 | -14.5876 | mean: -27.5491\n",
      "five num sum recall: 55.5415 | -47.9259 | -53.6138 | -47.8455 | -43.8600 | mean: -27.5408\n",
      "five num sum F1-score: 19.9424 | -39.9594 | -43.1612 | -39.4846 | -32.4429 | mean: -27.0211\n",
      "five num sum ROC AUC: -40.6349 | -38.9188 | -41.7324 | -34.8513 | -27.1635 | mean: -36.6602\n"
     ]
    }
   ],
   "source": [
    "# file1_path = \"./metrics/hmm_mfcc_20_no_pitch_rand.txt\"\n",
    "# file2_path = \"./metrics/Kmeans_mfcc_20_no_pitch_rand.txt\"\n",
    "\n",
    "# file1_path = \"../Quiz_9/metrics/SVM/rbf_mfcc_20_pitch_rand.txt\"\n",
    "# file2_path = \"../Quiz_9/metrics/SVM/rbf_mfcc_20_no_pitch_rand.txt\"\n",
    "\n",
    "file1_path = \"../Quiz_9/metrics/HMM/diag_5_mfcc_20_pitch_rand.txt\"\n",
    "file2_path = \"../Quiz_9/metrics/HMM/diag_5_pca_mfcc_20_pitch_rand.txt\"\n",
    "\n",
    "\n",
    "# Read file contents\n",
    "with open(file1_path, 'r') as file1, open(file2_path, 'r') as file2:\n",
    "    file1_content = file1.read()\n",
    "    file2_content = file2.read()\n",
    "\n",
    "# Parse metrics\n",
    "metrics1 = parse_metrics(file1_content)\n",
    "metrics2 = parse_metrics(file2_content)\n",
    "\n",
    "# Calculate percentage differences\n",
    "percent_differences = calculate_percent_difference(metrics1, metrics2)\n",
    "\n",
    "# Print results\n",
    "print(\"Percentage Differences:\")\n",
    "print_metrics(percent_differences)"
   ]
  }
 ],
 "metadata": {
  "kernelspec": {
   "display_name": "BioMed_Project",
   "language": "python",
   "name": "python3"
  },
  "language_info": {
   "codemirror_mode": {
    "name": "ipython",
    "version": 3
   },
   "file_extension": ".py",
   "mimetype": "text/x-python",
   "name": "python",
   "nbconvert_exporter": "python",
   "pygments_lexer": "ipython3",
   "version": "3.10.14"
  }
 },
 "nbformat": 4,
 "nbformat_minor": 2
}
