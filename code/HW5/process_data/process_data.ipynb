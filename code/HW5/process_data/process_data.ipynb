{
 "cells": [
  {
   "cell_type": "code",
   "execution_count": 24,
   "metadata": {},
   "outputs": [],
   "source": [
    "import librosa\n",
    "import os\n",
    "import pickle\n",
    "import numpy as np\n",
    "from scipy.stats import kurtosis,skew,mode\n",
    "from sympy import factorint"
   ]
  },
  {
   "cell_type": "code",
   "execution_count": 10,
   "metadata": {},
   "outputs": [],
   "source": [
    "def get_filenames_by_lowest_subfolder(root_folder, x):\n",
    "    file_dict = {}\n",
    "    \n",
    "    # Get the subdirectories of the root folder and sort them numerically\n",
    "    subfolders = [subfolder for subfolder in os.listdir(root_folder) \n",
    "                  if os.path.isdir(os.path.join(root_folder, subfolder))]\n",
    "    \n",
    "    # Sort subfolders numerically if they are numbers, otherwise as strings\n",
    "    subfolders.sort(key=lambda name: int(name) if name.isdigit() else name)\n",
    "    \n",
    "    # Limit to the first x subfolders\n",
    "    subfolders = subfolders[:x]\n",
    "    \n",
    "    # Walk through each selected subfolder\n",
    "    for subfolder in subfolders:\n",
    "        subfolder_path = os.path.join(root_folder, subfolder)\n",
    "        \n",
    "        # Initialize the list for the subfolder if it doesn't exist\n",
    "        file_dict[subfolder] = []\n",
    "        \n",
    "        for dirpath, _, filenames in os.walk(subfolder_path):\n",
    "            if filenames:  # If there are files in the directory\n",
    "                \n",
    "                # Add files to the list for the subfolder\n",
    "                for filename in filenames:\n",
    "                    if filename.endswith(\".wav\"):\n",
    "                        full_file_path = os.path.join(dirpath, filename)\n",
    "                        file_dict[subfolder].append(full_file_path)\n",
    "        \n",
    "    return file_dict"
   ]
  },
  {
   "cell_type": "code",
   "execution_count": 18,
   "metadata": {},
   "outputs": [],
   "source": [
    "def get_reader_length(speaker):\n",
    "    all_signals = [librosa.load(path, sr=None)[0] for path in speaker]\n",
    "    concatenated_signal = np.concatenate(all_signals)\n",
    "    return concatenated_signal.shape[0], concatenated_signal"
   ]
  },
  {
   "cell_type": "code",
   "execution_count": 22,
   "metadata": {},
   "outputs": [
    {
     "ename": "TypeError",
     "evalue": "'int' object is not iterable",
     "output_type": "error",
     "traceback": [
      "\u001b[1;31m---------------------------------------------------------------------------\u001b[0m",
      "\u001b[1;31mTypeError\u001b[0m                                 Traceback (most recent call last)",
      "Cell \u001b[1;32mIn[22], line 10\u001b[0m\n\u001b[0;32m      7\u001b[0m     lengths\u001b[38;5;241m.\u001b[39mappend(length)\n\u001b[0;32m      8\u001b[0m     signals\u001b[38;5;241m.\u001b[39mappend(signal)\n\u001b[1;32m---> 10\u001b[0m \u001b[38;5;28mprint\u001b[39m(\u001b[38;5;28;43mmin\u001b[39;49m\u001b[43m(\u001b[49m\u001b[43mlength\u001b[49m\u001b[43m)\u001b[49m)\n",
      "\u001b[1;31mTypeError\u001b[0m: 'int' object is not iterable"
     ]
    }
   ],
   "source": [
    "root = r\"C:\\Computer Science Programs\\Fall_2024\\EE502_BioMed\\project\\data\\cleaned\"\n",
    "file_dictionary = get_filenames_by_lowest_subfolder(root,10)\n",
    "\n",
    "lengths, signals = [], []\n",
    "for speaker in file_dictionary.keys():\n",
    "    length, signal = get_reader_length(file_dictionary[speaker])\n",
    "    lengths.append(length)\n",
    "    signals.append(signal)"
   ]
  }
 ],
 "metadata": {
  "kernelspec": {
   "display_name": "BioMed_Project",
   "language": "python",
   "name": "python3"
  },
  "language_info": {
   "codemirror_mode": {
    "name": "ipython",
    "version": 3
   },
   "file_extension": ".py",
   "mimetype": "text/x-python",
   "name": "python",
   "nbconvert_exporter": "python",
   "pygments_lexer": "ipython3",
   "version": "3.10.14"
  }
 },
 "nbformat": 4,
 "nbformat_minor": 2
}
