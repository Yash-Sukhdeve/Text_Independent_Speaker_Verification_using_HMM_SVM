{
 "cells": [
  {
   "cell_type": "code",
   "execution_count": 2,
   "metadata": {},
   "outputs": [
    {
     "name": "stderr",
     "output_type": "stream",
     "text": [
      "c:\\Users\\odink\\anaconda3\\envs\\BioMed_Project\\lib\\site-packages\\pydub\\utils.py:170: RuntimeWarning: Couldn't find ffmpeg or avconv - defaulting to ffmpeg, but may not work\n",
      "  warn(\"Couldn't find ffmpeg or avconv - defaulting to ffmpeg, but may not work\", RuntimeWarning)\n"
     ]
    }
   ],
   "source": [
    "import os\n",
    "from pocketsphinx import AudioFile, get_model_path, Decoder\n",
    "from pydub import AudioSegment\n",
    "from collections import defaultdict"
   ]
  },
  {
   "cell_type": "code",
   "execution_count": 42,
   "metadata": {},
   "outputs": [],
   "source": [
    "def confirm_word(input_wav):\n",
    "    \n",
    "    model_path = get_model_path()\n",
    "\n",
    "    config = {\n",
    "        'verbose': False,\n",
    "        'hmm': os.path.join(model_path, 'en-us'),  # Path to the acoustic model\n",
    "        'lm': os.path.join(model_path, 'en-us.lm.bin'),  # Path to the language model\n",
    "        'dict': os.path.join(model_path, 'cmudict-en-us.dict'),  # Path to the dictionary\n",
    "        'frate': 100,\n",
    "        'samprate': 16000\n",
    "    }\n",
    "\n",
    "    decoder = Decoder(config)\n",
    "\n",
    "    # Start decoding the audio file\n",
    "    decoder.start_utt()\n",
    "    \n",
    "    # Read the audio file in binary mode and process it\n",
    "    with open(input_wav, 'rb') as audio_file:\n",
    "        while True:\n",
    "            buf = audio_file.read(1024)\n",
    "            if not buf:\n",
    "                break\n",
    "            decoder.process_raw(buf, False, False)\n",
    "\n",
    "    decoder.end_utt()\n",
    "    \n",
    "    detected_text = decoder.hyp().hypstr\n",
    "    # print(\"Detected text:\", detected_text)\n",
    "    return(detected_text)"
   ]
  },
  {
   "cell_type": "code",
   "execution_count": 33,
   "metadata": {},
   "outputs": [],
   "source": [
    "def get_file_paths_by_subfolder(root):\n",
    "    file_dict = {}\n",
    "    \n",
    "    # Walk through the root directory\n",
    "    for subdir, _, files in os.walk(root):\n",
    "        # Get the subfolder name (last part of the path)\n",
    "        subfolder_name = os.path.basename(subdir)\n",
    "        file_pairs = [(os.path.join(subdir, file), os.path.splitext(file)[0]) for file in files]\n",
    "        \n",
    "        # Only add the subfolder if it has files\n",
    "        if file_pairs:\n",
    "            file_dict[subfolder_name] = file_pairs\n",
    "    \n",
    "    return file_dict"
   ]
  },
  {
   "cell_type": "code",
   "execution_count": 46,
   "metadata": {},
   "outputs": [
    {
     "name": "stdout",
     "output_type": "stream",
     "text": [
      "dict_keys(['201', '311', '87'])\n",
      "0.24271844660194175\n"
     ]
    }
   ],
   "source": [
    "# root = r'C:\\Computer Science Programs\\Fall_2024\\EE502_BioMed\\project\\data\\extracted_words\\that_no_extra_time'\n",
    "# root = r'C:\\Computer Science Programs\\Fall_2024\\EE502_BioMed\\project\\data\\extracted_words\\that'\n",
    "root = r'C:\\Computer Science Programs\\Fall_2024\\EE502_BioMed\\project\\data\\extracted_words\\that_no_begining_time'\n",
    "file_dictionary = get_file_paths_by_subfolder(root)\n",
    "\n",
    "print(file_dictionary.keys())\n",
    "detected_words = []\n",
    "for file, _ in file_dictionary['87']:\n",
    "    detected_words.append(confirm_word(file))\n",
    "print(detected_words.count('that')/len(detected_words))"
   ]
  },
  {
   "cell_type": "code",
   "execution_count": 49,
   "metadata": {},
   "outputs": [
    {
     "name": "stdout",
     "output_type": "stream",
     "text": [
      "0.33980582524271846\n"
     ]
    }
   ],
   "source": [
    "substring = \"that\"\n",
    "count_substring = sum(item.count(substring) for item in detected_words)\n",
    "\n",
    "print(count_substring/len(detected_words))\n"
   ]
  },
  {
   "cell_type": "code",
   "execution_count": 44,
   "metadata": {},
   "outputs": [
    {
     "name": "stdout",
     "output_type": "stream",
     "text": [
      "0.24271844660194175\n"
     ]
    }
   ],
   "source": [
    "print(detected_words.count('that')/len(detected_words))"
   ]
  },
  {
   "cell_type": "code",
   "execution_count": 45,
   "metadata": {},
   "outputs": [
    {
     "name": "stdout",
     "output_type": "stream",
     "text": [
      "['that', 'that', 'the', 'the', 'the', 'the', 'yeah', 'the', 'eh', 'the', 'yeah', 'the', 'that', 'the', 'eh', 'but', 'that it', 'the', 'that', 'the', 'the', 'yeah', 'at', 'and', 'the', '', 'but', 'the', 'that', 'yeah', 'the', 'that', 'the', 'that', 'yeah', 'a', 'that', 'yeah', 'that', 'that', '', 'a', 'that', 'eh', 'that', '', 'the', 'the', 'the', 'the', 'yeah', 'and', 'yeah', 'that', 'yeah', 'but', 'the', 'the', 'yeah', 'the', 'the', 'that', 'the', 'the', 'that', 'edit', 'yeah', 'eh', 'that', 'gov', 'that', 'yeah', 'the', 'yeah', 'and', 'that', 'that', 'yeah', 'that', 'that', 'look', 'yeah', 'yeah', 'but', '', 'the', 'that', 'that', 'yeah', 'the', 'yeah', 'that', 'the', 'the', 'the', 'that', '', 'the', 'edit', 'eh', 'yeah', 'yeah', 'but']\n"
     ]
    }
   ],
   "source": [
    "print(detected_words)"
   ]
  },
  {
   "cell_type": "code",
   "execution_count": null,
   "metadata": {},
   "outputs": [],
   "source": [
    "# Detected text: eh\n",
    "# Detected text: that\n",
    "# Detected text: eh\n",
    "# Detected text: that\n",
    "# Detected text: that\n",
    "# Detected text: that\n",
    "# Detected text: that\n",
    "# Detected text: that\n",
    "# Detected text: that\n",
    "# Detected text: the\n",
    "# Detected text: that\n",
    "# Detected text: that\n",
    "# Detected text: eh\n",
    "\n",
    "# Detected text: that\n",
    "# Detected text: yeah\n",
    "# Detected text: eh\n",
    "# Detected text: yeah\n",
    "# Detected text: that\n",
    "# Detected text: that\n",
    "# Detected text: that\n",
    "# Detected text: that\n",
    "# Detected text: that\n",
    "# Detected text: the\n",
    "# Detected text: that\n",
    "# Detected text: that\n",
    "# Detected text: eh"
   ]
  }
 ],
 "metadata": {
  "kernelspec": {
   "display_name": "BioMed_Project",
   "language": "python",
   "name": "python3"
  },
  "language_info": {
   "codemirror_mode": {
    "name": "ipython",
    "version": 3
   },
   "file_extension": ".py",
   "mimetype": "text/x-python",
   "name": "python",
   "nbconvert_exporter": "python",
   "pygments_lexer": "ipython3",
   "version": "3.10.14"
  }
 },
 "nbformat": 4,
 "nbformat_minor": 2
}
