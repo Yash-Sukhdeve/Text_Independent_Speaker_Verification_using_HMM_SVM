{
 "cells": [
  {
   "cell_type": "code",
   "execution_count": 5,
   "metadata": {},
   "outputs": [],
   "source": [
    "import librosa\n",
    "import os\n",
    "import pickle\n",
    "import numpy as np\n",
    "from scipy.stats import kurtosis,skew,mode"
   ]
  },
  {
   "cell_type": "code",
   "execution_count": null,
   "metadata": {},
   "outputs": [],
   "source": [
    "def get_file_paths_by_subfolder(root):\n",
    "    file_dict = {}\n",
    "    \n",
    "    # Walk through the root directory\n",
    "    for subdir, _, files in os.walk(root):\n",
    "        # Get the subfolder name (last part of the path)\n",
    "        subfolder_name = os.path.basename(subdir)\n",
    "        file_pairs = [(os.path.join(subdir, file), os.path.splitext(file)[0]) for file in files]\n",
    "        \n",
    "        # Only add the subfolder if it has files\n",
    "        if file_pairs:\n",
    "            file_dict[subfolder_name] = file_pairs\n",
    "    \n",
    "    return file_dict"
   ]
  },
  {
   "cell_type": "code",
   "execution_count": null,
   "metadata": {},
   "outputs": [],
   "source": [
    "def extract_mfcc(file_dictionary):\n",
    "    mfcc_dict = {}\n",
    "    \n",
    "    for reader in file_dictionary.keys():\n",
    "        \n",
    "        if reader not in mfcc_dict:\n",
    "            mfcc_dict[reader] = []\n",
    "\n",
    "        for audio_path, filename_no_extension in file_dictionary[reader]:\n",
    "            signal, sample_rate = librosa.load(audio_path, sr=None)\n",
    "            # mfcc_data = librosa.feature.mfcc(y=signal, sr=sample_rate, n_fft=1024, n_mfcc=40)\n",
    "\n",
    "            fbank_data = librosa.feature.melspectrogram(y=signal, sr=sample_rate, n_fft=1024, n_mels=20)\n",
    "            fbank_data = librosa.power_to_db(fbank_data)  # Convert power to decibel scale\n",
    "\n",
    "            # delta_mfcc = librosa.feature.delta(mfcc_data, width=3)\n",
    "\n",
    "            # Calculating various statistic measures on the MFCC coefficients\n",
    "            # mean_mfcc = np.mean(mfcc_data, axis=1)\n",
    "            # median_mfcc = np.median(mfcc_data, axis=1)\n",
    "            # std_mfcc = np.std(mfcc_data, axis=1)\n",
    "            # skew_mfcc = skew(mfcc_data, axis=1)\n",
    "            # kurt_mfcc = kurtosis(mfcc_data, axis=1)\n",
    "            # maximum_mfcc = np.amax(mfcc_data, axis=1)\n",
    "            # minimum_mfcc = np.amin(mfcc_data, axis=1)\n",
    "\n",
    "            # Calculate various statistic measures on the Delta MFCC coefficients\n",
    "            # mean_delta_mfcc = np.mean(delta_mfcc, axis=1)\n",
    "            # median_delta_mfcc = np.median(delta_mfcc, axis=1)\n",
    "            # std_delta_mfcc = np.std(delta_mfcc, axis=1)\n",
    "            # skew_delta_mfcc = skew(delta_mfcc, axis=1)\n",
    "            # kurt_delta_mfcc = kurtosis(delta_mfcc, axis=1)\n",
    "            # maximum_delta_mfcc = np.amax(delta_mfcc, axis=1)\n",
    "            # minimum_delta_mfcc = np.amin(delta_mfcc, axis=1)\n",
    "\n",
    "            # Calculating various statistic measures on the FBank features\n",
    "            mean_fbank = np.mean(fbank_data, axis=1)\n",
    "            median_fbank = np.median(fbank_data, axis=1)\n",
    "            std_fbank = np.std(fbank_data, axis=1)\n",
    "            skew_fbank = skew(fbank_data, axis=1)\n",
    "            kurt_fbank = kurtosis(fbank_data, axis=1)\n",
    "            maximum_fbank = np.amax(fbank_data, axis=1)\n",
    "            minimum_fbank = np.amin(fbank_data, axis=1)\n",
    "\n",
    "            # Pitch extraction\n",
    "            f0, voiced_flag, voiced_probs = librosa.pyin(\n",
    "                signal, fmin=librosa.note_to_hz('C2'), fmax=librosa.note_to_hz('C7')\n",
    "            )\n",
    "            \n",
    "            # Handle NaNs in pitch\n",
    "            if np.all(np.isnan(f0)):\n",
    "                mean_pitch, median_pitch = 0, 0  # Set default if no pitch is detected\n",
    "            else:\n",
    "                mean_pitch = np.nanmean(f0)  # Mean pitch, ignoring NaNs\n",
    "                median_pitch = np.nanmedian(f0)  # Median pitch, ignoring NaNs\n",
    "\n",
    "            # feature_list = np.concatenate((\n",
    "            #     mean_mfcc, median_mfcc, std_mfcc, skew_mfcc, kurt_mfcc, maximum_mfcc, minimum_mfcc,\n",
    "            #  [mean_pitch, median_pitch]  # Add pitch statistics to the feature list\n",
    "            # ))\n",
    "            # feature_list = np.concatenate((\n",
    "            #     mean_mfcc, median_mfcc, std_mfcc, skew_mfcc, kurt_mfcc, maximum_mfcc, minimum_mfcc,\n",
    "            #     mean_delta_mfcc, median_delta_mfcc, std_delta_mfcc, skew_delta_mfcc, kurt_delta_mfcc, maximum_delta_mfcc, minimum_delta_mfcc,\n",
    "            #     [mean_pitch, median_pitch]  # Add pitch statistics to the feature list\n",
    "            # ))\n",
    "            # feature_list = np.concatenate((\n",
    "            #     mean_delta_mfcc, median_delta_mfcc, std_delta_mfcc, skew_delta_mfcc, kurt_delta_mfcc, maximum_delta_mfcc, minimum_delta_mfcc,\n",
    "            #     [mean_pitch, median_pitch]  # Add pitch statistics to the feature list\n",
    "            # ))\n",
    "            feature_list = np.concatenate((\n",
    "                mean_fbank, median_fbank, std_fbank, skew_fbank, kurt_fbank, maximum_fbank, minimum_fbank,\n",
    "                [mean_pitch, median_pitch]  # Add pitch statistics to the feature list\n",
    "            ))\n",
    "\n",
    "            mfcc_dict[reader].append((feature_list, filename_no_extension))\n",
    "\n",
    "    with open(\"../../../data/extracted_features/mfcc_stats_that_v2/fbank_20_features.pickle\", \"wb\") as file:\n",
    "        pickle.dump(mfcc_dict, file)"
   ]
  },
  {
   "cell_type": "code",
   "execution_count": 11,
   "metadata": {},
   "outputs": [
    {
     "name": "stdout",
     "output_type": "stream",
     "text": [
      "dict_keys(['201', '311', '3240', '4297', '7800', '87'])\n"
     ]
    }
   ],
   "source": [
    "file_dictionary = get_file_paths_by_subfolder(r\"C:\\Computer Science Programs\\Fall_2024\\EE502_BioMed\\project\\data\\extracted_words\\that_before_after\")\n",
    "print(file_dictionary.keys())\n",
    "# print(type(file_dictionary[\"19\"]))\n",
    "# print(file_dictionary[\"19\"])"
   ]
  },
  {
   "cell_type": "code",
   "execution_count": 12,
   "metadata": {},
   "outputs": [],
   "source": [
    "extract_mfcc(file_dictionary)"
   ]
  },
  {
   "cell_type": "code",
   "execution_count": null,
   "metadata": {},
   "outputs": [
    {
     "name": "stdout",
     "output_type": "stream",
     "text": [
      "(20, 7)\n",
      "[-463.157   -581.5757  -367.2316  -360.0424  -355.79175 -378.06033\n",
      " -535.1951 ]\n",
      "[-355.79175    186.06808     17.36948     29.215172    20.400425\n",
      "    3.6157994   -8.9810505    3.6135051   14.613032     7.9065084\n",
      "    9.587907    -6.1566095    3.969215    14.03998     -1.6051408\n",
      "   -6.2166615   13.189661    -7.3316336   -3.5331597    3.7617269]\n",
      "[-581.5757      99.36046   -100.5748     -14.087265   -33.46981\n",
      "  -25.815037   -44.420116   -25.16283    -21.47697    -14.929054\n",
      "  -14.077993   -29.278122   -12.531057    -5.4511943  -32.61048\n",
      "  -16.7882      -9.387087   -17.582047   -21.199858   -10.644733 ]\n"
     ]
    }
   ],
   "source": [
    "audio_path = r\"C:\\Computer Science Programs\\Fall_2024\\EE502_BioMed\\project\\data\\extracted_words\\that_before_after\\87\\87-121553-0001_1.wav\"\n",
    "signal, sample_rate = librosa.load(audio_path, sr=None)\n",
    "mfcc_data = librosa.feature.mfcc(y=signal, sr=sample_rate, n_fft=1024)\n",
    "\n",
    "print(mfcc_data.shape)\n",
    "\n",
    "mean_mfcc = np.mean(mfcc_data, axis=1)\n",
    "median_mfcc = np.median(mfcc_data, axis=1)\n",
    "std_mfcc = np.std(mfcc_data, axis=1)\n",
    "skew_mfcc = skew(mfcc_data, axis=1)\n",
    "kurt_mfcc = kurtosis(mfcc_data, axis=1)\n",
    "maximum_mfcc = np.amax(mfcc_data, axis=1)\n",
    "minimum_mfcc = np.amin(mfcc_data, axis=1)\n",
    "\n",
    "# print(mean_mfcc)\n",
    "# print(median_mfcc)\n",
    "# print(skew_mfcc)\n",
    "# print(kurt_mfcc)\n",
    "\n",
    "print(mfcc_data[0])\n",
    "print(maximum_mfcc)\n",
    "print(minimum_mfcc)\n"
   ]
  }
 ],
 "metadata": {
  "kernelspec": {
   "display_name": "BioMed_Project",
   "language": "python",
   "name": "python3"
  },
  "language_info": {
   "codemirror_mode": {
    "name": "ipython",
    "version": 3
   },
   "file_extension": ".py",
   "mimetype": "text/x-python",
   "name": "python",
   "nbconvert_exporter": "python",
   "pygments_lexer": "ipython3",
   "version": "3.10.14"
  }
 },
 "nbformat": 4,
 "nbformat_minor": 2
}
