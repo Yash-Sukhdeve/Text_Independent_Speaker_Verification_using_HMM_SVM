{
 "cells": [
  {
   "cell_type": "code",
   "execution_count": 1,
   "metadata": {},
   "outputs": [],
   "source": [
    "import librosa\n",
    "import os\n",
    "import pickle\n",
    "import numpy as np\n",
    "from scipy.stats import kurtosis,skew\n",
    "from pydub import AudioSegment\n",
    "import random"
   ]
  },
  {
   "cell_type": "code",
   "execution_count": 2,
   "metadata": {},
   "outputs": [],
   "source": [
    "def extract_features(audio_segments, sample_rate=16000):\n",
    "    \n",
    "    def generate_random_indices(num_of_values, range_value, seed=42):\n",
    "        if num_of_values > range_value + 1:\n",
    "            raise ValueError(\"Cannot generate more unique numbers than the specified range.\")\n",
    "        \n",
    "        random.seed(seed)  # Set the seed for reproducibility\n",
    "        return random.sample(range(0, range_value), num_of_values)\n",
    "\n",
    "    indices_to_search = generate_random_indices(1000, len(audio_segments))\n",
    "    \n",
    "    feature_list = []\n",
    "    for audio_index  in indices_to_search:\n",
    "        segment = audio_segments[audio_index]\n",
    "\n",
    "        mfcc_data = librosa.feature.mfcc(y=segment, sr=sample_rate, n_mfcc=13)\n",
    "        \n",
    "        # Calculating various statistic measures on the MFCC coefficients\n",
    "        mean_mfcc = np.mean(mfcc_data, axis=1)\n",
    "        median_mfcc = np.median(mfcc_data, axis=1)\n",
    "        std_mfcc = np.std(mfcc_data, axis=1)\n",
    "        skew_mfcc = skew(mfcc_data, axis=1)\n",
    "        kurt_mfcc = kurtosis(mfcc_data, axis=1)\n",
    "        maximum_mfcc = np.amax(mfcc_data, axis=1)\n",
    "        minimum_mfcc = np.amin(mfcc_data, axis=1)\n",
    "        \n",
    "        segment_features = np.concatenate((\n",
    "            mean_mfcc, median_mfcc, std_mfcc, skew_mfcc, kurt_mfcc, maximum_mfcc, minimum_mfcc\n",
    "        ))\n",
    "\n",
    "        if not np.any(np.isnan(segment_features)):\n",
    "            feature_list.append(segment_features)\n",
    "\n",
    "    return(feature_list)"
   ]
  },
  {
   "cell_type": "code",
   "execution_count": 3,
   "metadata": {},
   "outputs": [],
   "source": [
    "def get_audio_paths(root_path):\n",
    "    results = {}\n",
    "    \n",
    "    for audio_path in os.listdir(root_path):\n",
    "        # Get the full path by joining root_path and audio_path\n",
    "        full_path = os.path.join(root_path, audio_path)\n",
    "        \n",
    "        # Only add files (not directories)\n",
    "        if os.path.isfile(full_path):\n",
    "            filename = os.path.basename(audio_path)\n",
    "            file_name_wo_ext, _ = os.path.splitext(filename)\n",
    "            results[file_name_wo_ext] = full_path\n",
    "\n",
    "    return results\n",
    "\n",
    "def segment_audio(audio_file_path):\n",
    "    # Load the audio file\n",
    "    audio = AudioSegment.from_file(audio_file_path)\n",
    "    \n",
    "    # Set duration for each segment in milliseconds and get the sample rate\n",
    "    segment_duration_ms = 1 * 1000  # 1 seconds in milliseconds\n",
    "    sample_rate = audio.frame_rate\n",
    "    samples_per_segment = segment_duration_ms * sample_rate // 1000  # Calculate samples per 4 seconds\n",
    "\n",
    "    # Convert the entire audio to a numpy array\n",
    "    audio_array = np.array(audio.get_array_of_samples())\n",
    "\n",
    "    # Normalize the audio to the range [-1.0, 1.0]\n",
    "    audio_array = audio_array.astype(np.float32)  # Convert to float32\n",
    "    audio_array /= np.max(np.abs(audio_array))  # Normalize to [-1, 1]\n",
    "\n",
    "    # Calculate the number of 4-second segments and trim any extra samples\n",
    "    num_segments = len(audio_array) // samples_per_segment\n",
    "    trimmed_audio_array = audio_array[:num_segments * samples_per_segment]\n",
    "\n",
    "    # Reshape the array into 4-second segments\n",
    "    segments = trimmed_audio_array.reshape(num_segments, samples_per_segment)\n",
    "    \n",
    "    return segments, sample_rate  # Return both segments and the sample rate"
   ]
  },
  {
   "cell_type": "code",
   "execution_count": 4,
   "metadata": {},
   "outputs": [],
   "source": [
    "def segment_and_extract(audio_paths, save_to):\n",
    "    feature_dict = {}\n",
    "    \n",
    "    for audio_path_key in audio_paths.keys():\n",
    "        segments, sr = segment_audio(audio_paths[audio_path_key])\n",
    "\n",
    "        if len(segments) >= 1000:\n",
    "            extracted_features = extract_features(segments, sample_rate=sr)\n",
    "            feature_dict[audio_path_key] = extracted_features\n",
    "        else:\n",
    "            print(f\"{audio_path_key} has less than 1000 segments\")\n",
    "        \n",
    "    with open(f\"../../../data/extracted_features_v2/{save_to}.pickle\", \"wb\") as file:\n",
    "        print(f\"saved to {save_to}\")\n",
    "        pickle.dump(feature_dict, file)"
   ]
  },
  {
   "cell_type": "code",
   "execution_count": 5,
   "metadata": {},
   "outputs": [
    {
     "name": "stdout",
     "output_type": "stream",
     "text": [
      "251\n"
     ]
    }
   ],
   "source": [
    "audio_paths = get_audio_paths(r\"C:\\Computer Science Programs\\Fall_2024\\EE502_BioMed\\project\\data\\cleaned_combined_v2\")\n",
    "\n",
    "print(len(audio_paths.keys()))"
   ]
  },
  {
   "cell_type": "code",
   "execution_count": null,
   "metadata": {},
   "outputs": [
    {
     "name": "stdout",
     "output_type": "stream",
     "text": [
      "1040 has less than 1000 segments\n",
      "1183 has less than 1000 segments\n",
      "1992 has less than 1000 segments\n"
     ]
    },
    {
     "name": "stderr",
     "output_type": "stream",
     "text": [
      "C:\\Users\\odink\\AppData\\Local\\Temp\\ipykernel_35780\\2075773632.py:22: RuntimeWarning: Precision loss occurred in moment calculation due to catastrophic cancellation. This occurs when the data are nearly identical. Results may be unreliable.\n",
      "  skew_mfcc = skew(mfcc_data, axis=1)\n",
      "C:\\Users\\odink\\AppData\\Local\\Temp\\ipykernel_35780\\2075773632.py:23: RuntimeWarning: Precision loss occurred in moment calculation due to catastrophic cancellation. This occurs when the data are nearly identical. Results may be unreliable.\n",
      "  kurt_mfcc = kurtosis(mfcc_data, axis=1)\n"
     ]
    },
    {
     "name": "stdout",
     "output_type": "stream",
     "text": [
      "445 has less than 1000 segments\n",
      "7312 has less than 1000 segments\n",
      "8014 has less than 1000 segments\n",
      "saved to mfcc_13_no_pitch_1000_rand_all_speakers\n"
     ]
    }
   ],
   "source": [
    "save_to = \"mfcc_13_no_pitch_1000_all_speakers\"\n",
    "segment_and_extract(audio_paths, save_to)"
   ]
  }
 ],
 "metadata": {
  "kernelspec": {
   "display_name": "BioMed_Project",
   "language": "python",
   "name": "python3"
  },
  "language_info": {
   "codemirror_mode": {
    "name": "ipython",
    "version": 3
   },
   "file_extension": ".py",
   "mimetype": "text/x-python",
   "name": "python",
   "nbconvert_exporter": "python",
   "pygments_lexer": "ipython3",
   "version": "3.10.14"
  }
 },
 "nbformat": 4,
 "nbformat_minor": 2
}
